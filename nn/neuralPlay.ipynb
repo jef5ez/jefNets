{
 "cells": [
  {
   "cell_type": "code",
   "execution_count": 1,
   "metadata": {
    "collapsed": true
   },
   "outputs": [],
   "source": [
    "from neuralnet import *\n",
    "from activations import *\n",
    "import numpy as np"
   ]
  },
  {
   "cell_type": "code",
   "execution_count": 2,
   "metadata": {
    "collapsed": false
   },
   "outputs": [],
   "source": [
    "layer1 = Layer(\"layer1\", 3, 1, LinearActivation(), SimpleLearner(0.005))"
   ]
  },
  {
   "cell_type": "code",
   "execution_count": 3,
   "metadata": {
    "collapsed": false
   },
   "outputs": [],
   "source": [
    "data = np.random.uniform(0, 10, (100,3))\n",
    "targets = data[:, -1].reshape((100,1))"
   ]
  },
  {
   "cell_type": "code",
   "execution_count": 4,
   "metadata": {
    "collapsed": false
   },
   "outputs": [],
   "source": [
    "training = zip(data, targets)"
   ]
  },
  {
   "cell_type": "code",
   "execution_count": 5,
   "metadata": {
    "collapsed": false
   },
   "outputs": [],
   "source": [
    "nn = NeuralNet([layer1], MeanSquaredError(), 0.9)"
   ]
  },
  {
   "cell_type": "code",
   "execution_count": 6,
   "metadata": {
    "collapsed": false
   },
   "outputs": [
    {
     "name": "stdout",
     "output_type": "stream",
     "text": [
      "epoch: 0\n",
      "cost:3.16907548733\n",
      "epoch: 1\n",
      "cost:1.81998410289\n",
      "epoch: 2\n",
      "cost:1.2587013738\n",
      "epoch: 3\n",
      "cost:0.942421398266\n",
      "epoch: 4\n",
      "cost:0.707602424938\n",
      "epoch: 5\n",
      "cost:0.56441135274\n",
      "epoch: 6\n",
      "cost:0.425360940911\n",
      "epoch: 7\n",
      "cost:0.319993936035\n",
      "epoch: 8\n",
      "cost:0.261747508807\n",
      "epoch: 9\n",
      "cost:0.212195380857\n",
      "epoch: 10\n",
      "cost:0.173756030171\n",
      "epoch: 11\n",
      "cost:0.122180152283\n",
      "epoch: 12\n",
      "cost:0.100535501767\n",
      "epoch: 13\n",
      "cost:0.0780195817168\n",
      "epoch: 14\n",
      "cost:0.0583299748963\n",
      "epoch: 15\n",
      "cost:0.0449164990371\n",
      "epoch: 16\n",
      "cost:0.0353347997375\n",
      "epoch: 17\n",
      "cost:0.0305565341201\n",
      "epoch: 18\n",
      "cost:0.0230029677286\n",
      "epoch: 19\n",
      "cost:0.0185571221061\n",
      "epoch: 20\n",
      "cost:0.0152225740659\n",
      "epoch: 21\n",
      "cost:0.0123142346698\n",
      "epoch: 22\n",
      "cost:0.0104881207325\n",
      "epoch: 23\n",
      "cost:0.00817393799651\n",
      "epoch: 24\n",
      "cost:0.00716153404696\n",
      "epoch: 25\n",
      "cost:0.00550355998767\n",
      "epoch: 26\n",
      "cost:0.00462543901228\n",
      "epoch: 27\n",
      "cost:0.00403649439196\n",
      "epoch: 28\n",
      "cost:0.00347731711206\n",
      "epoch: 29\n",
      "cost:0.00306094533208\n",
      "epoch: 30\n",
      "cost:0.00274912986588\n",
      "epoch: 31\n",
      "cost:0.00243458840639\n",
      "epoch: 32\n",
      "cost:0.00216610160523\n",
      "epoch: 33\n",
      "cost:0.00209072244731\n",
      "epoch: 34\n",
      "cost:0.00179946740704\n",
      "epoch: 35\n",
      "cost:0.00175951953511\n",
      "epoch: 36\n",
      "cost:0.00154790941192\n",
      "epoch: 37\n",
      "cost:0.0013557209352\n",
      "epoch: 38\n",
      "cost:0.00121621839265\n",
      "epoch: 39\n",
      "cost:0.00120535820758\n",
      "epoch: 40\n",
      "cost:0.0011936592352\n",
      "epoch: 41\n",
      "cost:0.00117897318199\n",
      "epoch: 42\n",
      "cost:0.00112183111794\n",
      "epoch: 43\n",
      "cost:0.00106810801166\n",
      "epoch: 44\n",
      "cost:0.000988904376303\n",
      "epoch: 45\n",
      "cost:0.00100936455839\n"
     ]
    }
   ],
   "source": [
    "nn.train(training, 50)"
   ]
  },
  {
   "cell_type": "code",
   "execution_count": 7,
   "metadata": {
    "collapsed": false
   },
   "outputs": [
    {
     "data": {
      "text/plain": [
       "array([[ 0.09674594],\n",
       "       [-0.00482655],\n",
       "       [-0.0022269 ],\n",
       "       [ 0.98962467]])"
      ]
     },
     "execution_count": 7,
     "metadata": {},
     "output_type": "execute_result"
    }
   ],
   "source": [
    "layer1.weights"
   ]
  },
  {
   "cell_type": "code",
   "execution_count": 8,
   "metadata": {
    "collapsed": false
   },
   "outputs": [
    {
     "name": "stdout",
     "output_type": "stream",
     "text": [
      "[array([[ 0.26065202,  0.12895171, -0.20813425],\n",
      "       [ 1.35893086,  0.666569  , -1.02909514],\n",
      "       [ 1.29858404,  0.62248331, -1.07620399],\n",
      "       [ 1.83837481,  0.90952504, -1.44492936]]), array([[-5.31237668],\n",
      "       [-0.08146868],\n",
      "       [ 1.4177473 ],\n",
      "       [ 1.77192302]])]\n",
      "[array([[ 0.26065202,  0.12895171, -0.20813425],\n",
      "       [ 1.35893087,  0.666569  , -1.02909514],\n",
      "       [ 1.29858404,  0.62248331, -1.07620399],\n",
      "       [ 1.83837481,  0.90952504, -1.44492936]]), array([[-5.31237668],\n",
      "       [-0.08146868],\n",
      "       [ 1.4177473 ],\n",
      "       [ 1.77192302]])]\n"
     ]
    }
   ],
   "source": [
    "layer = Layer(\"layer1\", 3, 3, TanhActivation())\n",
    "layer2 = Layer(\"layer2\", 3, 1, LinearActivation())\n",
    "nn = NeuralNet([layer, layer2], MeanSquaredError(), 0)\n",
    "\n",
    "numGrads = nn.numerical_gradient(data, targets, 1e-5)\n",
    "grads = nn.get_gradients(data, targets)\n",
    "\n",
    "zipped = zip(numGrads, grads)\n",
    "\n",
    "numGrad, grad = zipped[0]\n",
    "sub = numGrad - grad\n",
    "plus = numGrad + grad\n",
    "\n",
    "numGrad2, grad2 = zipped[-1]\n",
    "sub2 = numGrad2 - grad2\n",
    "plus2 = numGrad2 + grad2\n",
    "\n",
    "print numGrads\n",
    "print grads"
   ]
  }
 ],
 "metadata": {
  "kernelspec": {
   "display_name": "Python 2",
   "language": "python",
   "name": "python2"
  },
  "language_info": {
   "codemirror_mode": {
    "name": "ipython",
    "version": 2
   },
   "file_extension": ".py",
   "mimetype": "text/x-python",
   "name": "python",
   "nbconvert_exporter": "python",
   "pygments_lexer": "ipython2",
   "version": "2.7.9"
  }
 },
 "nbformat": 4,
 "nbformat_minor": 0
}
